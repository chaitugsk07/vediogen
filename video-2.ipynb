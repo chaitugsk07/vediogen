{
 "cells": [
  {
   "cell_type": "code",
   "execution_count": 6,
   "metadata": {},
   "outputs": [
    {
     "name": "stdout",
     "output_type": "stream",
     "text": [
      "Get current working directory :  /home/chaitu/D/55_python/20_youtube/15_dev\n"
     ]
    }
   ],
   "source": [
    "import os\n",
    "from moviepy.editor import *\n",
    "import json\n",
    "#os.chdir('..')\n",
    "print('Get current working directory : ', os.getcwd())"
   ]
  },
  {
   "cell_type": "code",
   "execution_count": 7,
   "metadata": {},
   "outputs": [
    {
     "name": "stdout",
     "output_type": "stream",
     "text": [
      "{'videoname': 'Python Introduction', 'pages': [{'title': 'What is Python?', 'page': '1', 'members': [{'text': 'Python is a popular programming language. It was created by Guido van Rossum, and released in 1991.', 'type': 'paragraph', 'speech': 'Python is an open-source programming language that works with a wide variety of operating systems and software to help you create applications. It has a large, robust community of users, developers and companies that make it one of the most popular languages on the planet.', 'voice': '1-1'}, {'text': 'Python is used for:', 'type': 'heading', 'speech': 'abc', 'voice': '1-2', 'points': [{'text': 'web development (server-side),', 'type': 'point', 'speech': 'sdvsdvsdv', 'voice': '1-2-1'}, {'text': 'software development,', 'type': 'point', 'speech': 'ydgnxvnb', 'voice': '1-2-2'}, {'text': 'mathematics,', 'type': 'point', 'speech': 'ysfnydgn', 'voice': '1-2-3'}, {'text': 'system scripting.', 'type': 'point', 'speech': 'fgnxfgn', 'voice': '1-2-4'}]}]}]}\n"
     ]
    }
   ],
   "source": [
    "basepath =os.getcwd()\n",
    "os.chdir('./videos/15_inprogress/')\n",
    "with open('00_main.json') as json_file:\n",
    "    json_data = json.load(json_file)\n",
    "    \n",
    "print(json_data)\n",
    "os.chdir(basepath)"
   ]
  },
  {
   "cell_type": "code",
   "execution_count": 22,
   "metadata": {},
   "outputs": [
    {
     "name": "stdout",
     "output_type": "stream",
     "text": [
      "6\n"
     ]
    },
    {
     "ename": "AttributeError",
     "evalue": "'list' object has no attribute 'duration'",
     "output_type": "error",
     "traceback": [
      "\u001b[0;31m---------------------------------------------------------------------------\u001b[0m",
      "\u001b[0;31mAttributeError\u001b[0m                            Traceback (most recent call last)",
      "\u001b[1;32m/home/chaitu/D/55_python/20_youtube/15_dev/video-2.ipynb Cell 3\u001b[0m in \u001b[0;36m<cell line: 52>\u001b[0;34m()\u001b[0m\n\u001b[1;32m     <a href='vscode-notebook-cell:/home/chaitu/D/55_python/20_youtube/15_dev/video-2.ipynb#W2sZmlsZQ%3D%3D?line=49'>50</a>\u001b[0m clips_final\u001b[39m.\u001b[39mappend(clipOutro)\n\u001b[1;32m     <a href='vscode-notebook-cell:/home/chaitu/D/55_python/20_youtube/15_dev/video-2.ipynb#W2sZmlsZQ%3D%3D?line=50'>51</a>\u001b[0m \u001b[39mprint\u001b[39m(\u001b[39mlen\u001b[39m(clips_final))\n\u001b[0;32m---> <a href='vscode-notebook-cell:/home/chaitu/D/55_python/20_youtube/15_dev/video-2.ipynb#W2sZmlsZQ%3D%3D?line=51'>52</a>\u001b[0m final \u001b[39m=\u001b[39m concatenate_videoclips([clips_final])\n\u001b[1;32m     <a href='vscode-notebook-cell:/home/chaitu/D/55_python/20_youtube/15_dev/video-2.ipynb#W2sZmlsZQ%3D%3D?line=52'>53</a>\u001b[0m final\u001b[39m.\u001b[39mwrite_videofile(filename, fps\u001b[39m=\u001b[39m\u001b[39m24\u001b[39m)\n",
      "File \u001b[0;32m~/miniconda3/envs/yt/lib/python3.9/site-packages/moviepy/video/compositing/concatenate.py:71\u001b[0m, in \u001b[0;36mconcatenate_videoclips\u001b[0;34m(clips, method, transition, bg_color, ismask, padding)\u001b[0m\n\u001b[1;32m     68\u001b[0m     clips \u001b[39m=\u001b[39m reduce(\u001b[39mlambda\u001b[39;00m x, y: x \u001b[39m+\u001b[39m y, l) \u001b[39m+\u001b[39m [clips[\u001b[39m-\u001b[39m\u001b[39m1\u001b[39m]]\n\u001b[1;32m     69\u001b[0m     transition \u001b[39m=\u001b[39m \u001b[39mNone\u001b[39;00m\n\u001b[0;32m---> 71\u001b[0m tt \u001b[39m=\u001b[39m np\u001b[39m.\u001b[39mcumsum([\u001b[39m0\u001b[39m] \u001b[39m+\u001b[39m [c\u001b[39m.\u001b[39mduration \u001b[39mfor\u001b[39;00m c \u001b[39min\u001b[39;00m clips])\n\u001b[1;32m     73\u001b[0m sizes \u001b[39m=\u001b[39m [v\u001b[39m.\u001b[39msize \u001b[39mfor\u001b[39;00m v \u001b[39min\u001b[39;00m clips]\n\u001b[1;32m     75\u001b[0m w \u001b[39m=\u001b[39m \u001b[39mmax\u001b[39m(r[\u001b[39m0\u001b[39m] \u001b[39mfor\u001b[39;00m r \u001b[39min\u001b[39;00m sizes)\n",
      "File \u001b[0;32m~/miniconda3/envs/yt/lib/python3.9/site-packages/moviepy/video/compositing/concatenate.py:71\u001b[0m, in \u001b[0;36m<listcomp>\u001b[0;34m(.0)\u001b[0m\n\u001b[1;32m     68\u001b[0m     clips \u001b[39m=\u001b[39m reduce(\u001b[39mlambda\u001b[39;00m x, y: x \u001b[39m+\u001b[39m y, l) \u001b[39m+\u001b[39m [clips[\u001b[39m-\u001b[39m\u001b[39m1\u001b[39m]]\n\u001b[1;32m     69\u001b[0m     transition \u001b[39m=\u001b[39m \u001b[39mNone\u001b[39;00m\n\u001b[0;32m---> 71\u001b[0m tt \u001b[39m=\u001b[39m np\u001b[39m.\u001b[39mcumsum([\u001b[39m0\u001b[39m] \u001b[39m+\u001b[39m [c\u001b[39m.\u001b[39;49mduration \u001b[39mfor\u001b[39;00m c \u001b[39min\u001b[39;00m clips])\n\u001b[1;32m     73\u001b[0m sizes \u001b[39m=\u001b[39m [v\u001b[39m.\u001b[39msize \u001b[39mfor\u001b[39;00m v \u001b[39min\u001b[39;00m clips]\n\u001b[1;32m     75\u001b[0m w \u001b[39m=\u001b[39m \u001b[39mmax\u001b[39m(r[\u001b[39m0\u001b[39m] \u001b[39mfor\u001b[39;00m r \u001b[39min\u001b[39;00m sizes)\n",
      "\u001b[0;31mAttributeError\u001b[0m: 'list' object has no attribute 'duration'"
     ]
    }
   ],
   "source": [
    "basepath =os.getcwd()\n",
    "filename = json_data[\"videoname\"]+\".mp4\"\n",
    "os.chdir('./videos/10_yt_common/')\n",
    "clipIntro = VideoFileClip(\"intro.mp4\").resize( (3840,2160) )\n",
    "clipTransition = VideoFileClip(\"transition.mp4\").resize( (3840,2160) )\n",
    "clipOutro = VideoFileClip(\"outro.mp4\").resize( (3840,2160) )\n",
    "clips_final = []\n",
    "clips_final.append(clipIntro)\n",
    "clips_final.append(clipTransition)\n",
    "clips_final.append(clipOutro)\n",
    "os.chdir(basepath)\n",
    "for page in json_data[\"pages\"]:\n",
    "    txt_clip = []\n",
    "    x_pos = 250\n",
    "    x_max = 3840\n",
    "    y_pos = 300\n",
    "    y_max = 2160\n",
    "    os.chdir('./videos/20_stock_images/')\n",
    "    txt_clip.append(ImageClip(\"1.jpg\").resize( (3840,2160) ))\n",
    "    os.chdir(basepath)\n",
    "    txt_clip.append(TextClip(page[\"title\"], font = \"Dyuthi\",fontsize = 150, color = 'black').set_pos((200,100)))\n",
    "    txt_clip.append(TextClip(\"------------------------------------------------------------\", font = \"Dyuthi\",fontsize = 150, color = 'grey').set_pos((150,200)))\n",
    "    txt_clip.append(TextClip(page[\"page\"], font = \"Dyuthi\",fontsize = 50, color = 'black').set_pos((1920,2000)))\n",
    "    for member in page[\"members\"]:\n",
    "        if member[\"type\"] == \"paragraph\":\n",
    "            os.chdir('./videos/15_inprogress/')\n",
    "            audio = AudioFileClip(member[\"voice\"] +\".wav\")\n",
    "            os.chdir(basepath)\n",
    "            txt_clip_temp = []\n",
    "            for x in txt_clip:\n",
    "                txt_clip_temp.append(x.set_duration(audio.duration))\n",
    "            text = member[\"text\"]\n",
    "            while len(text) > 0:\n",
    "                if len(text) > 99:\n",
    "                    text1 = text[0:98]\n",
    "                    y_pos = y_pos +100\n",
    "                    txt_clip_temp.append(TextClip(text1, font = \"Chilanka-Regular\",fontsize = 75, color = 'black' , bg_color = \"grey\").set_pos((200,y_pos)).set_duration(audio.duration))\n",
    "                    txt_clip.append(TextClip(text1, font = \"Chilanka-Regular\",fontsize = 75, color = 'black').set_pos((200,y_pos)).set_duration(audio.duration))\n",
    "                    text = text[98:]\n",
    "                else:\n",
    "                    y_pos = y_pos + 100\n",
    "                    txt_clip_temp.append(TextClip(text, font = \"Chilanka-Regular\",fontsize = 75, color = 'black', bg_color = \"grey\").set_pos((200,y_pos)).set_duration(audio.duration))\n",
    "                    txt_clip.append(TextClip(text, font = \"Chilanka-Regular\",fontsize = 75, color = 'black').set_pos((200,y_pos)).set_duration(audio.duration))\n",
    "                    text = \"\"\n",
    "            clip1 = CompositeVideoClip(txt_clip_temp)\n",
    "            clip2 = clip1.set_audio(audio)\n",
    "            clips_final.append(clip2)\n",
    "            clips_final.append(clipTransition)\n",
    "            \n",
    "clips_final.append(clipOutro)\n",
    "print(len(clips_final))\n",
    "final = concatenate_videoclips([clips_final])\n",
    "final.write_videofile(filename, fps=24)"
   ]
  },
  {
   "cell_type": "code",
   "execution_count": 8,
   "metadata": {},
   "outputs": [
    {
     "name": "stdout",
     "output_type": "stream",
     "text": [
      "Moviepy - Building video Python Introduction.mp4.\n",
      "MoviePy - Writing audio in Python IntroductionTEMP_MPY_wvf_snd.mp3\n"
     ]
    },
    {
     "name": "stderr",
     "output_type": "stream",
     "text": [
      "                                                                    \r"
     ]
    },
    {
     "name": "stdout",
     "output_type": "stream",
     "text": [
      "MoviePy - Done.\n",
      "Moviepy - Writing video Python Introduction.mp4\n",
      "\n"
     ]
    },
    {
     "name": "stderr",
     "output_type": "stream",
     "text": [
      "                                                                 \r"
     ]
    },
    {
     "name": "stdout",
     "output_type": "stream",
     "text": [
      "Moviepy - Done !\n",
      "Moviepy - video ready Python Introduction.mp4\n"
     ]
    }
   ],
   "source": [
    "basepath =os.getcwd()\n",
    "filename = json_data[\"videoname\"]+\".mp4\"\n",
    "os.chdir('./videos/10_yt_common/')\n",
    "clipIntro = VideoFileClip(\"intro.mp4\")\n",
    "clipTransition = VideoFileClip(\"transition.mp4\")\n",
    "clipOutro = VideoFileClip(\"outro.mp4\")\n",
    "clips_final = []\n",
    "clips_final.append(clipIntro)\n",
    "os.chdir(basepath)\n",
    "for page in json_data[\"pages\"]:\n",
    "    txt_clip = []\n",
    "    x_pos = 250\n",
    "    x_max = 3840\n",
    "    y_pos = 300\n",
    "    y_max = 2160\n",
    "    os.chdir('./videos/20_stock_images/')\n",
    "    txt_clip.append(ImageClip(\"1.jpg\"))\n",
    "    os.chdir(basepath)\n",
    "    txt_clip.append(TextClip(page[\"title\"], font = \"Dyuthi\",fontsize = 150, color = 'black').set_pos((200,100)))\n",
    "    txt_clip.append(TextClip(\"------------------------------------------------------------\", font = \"Dyuthi\",fontsize = 150, color = 'grey').set_pos((150,200)))\n",
    "    txt_clip.append(TextClip(page[\"page\"], font = \"Dyuthi\",fontsize = 50, color = 'black').set_pos((1920,2000)))\n",
    "    for member in page[\"members\"]:\n",
    "        if member[\"type\"] == \"paragraph\":\n",
    "            os.chdir('./videos/15_inprogress/')\n",
    "            audio = AudioFileClip(member[\"voice\"] +\".wav\")\n",
    "            os.chdir(basepath)\n",
    "            txt_clip_temp = []\n",
    "            for x in txt_clip:\n",
    "                txt_clip_temp.append(x.set_duration(audio.duration))\n",
    "            text = member[\"text\"]\n",
    "            y_pos = y_pos +50\n",
    "            while len(text) > 0:\n",
    "                if len(text) > 99:\n",
    "                    text1 = text[0:98]\n",
    "                    y_pos = y_pos +100\n",
    "                    txt_clip_temp.append(TextClip(text1, font = \"Chilanka-Regular\",fontsize = 75, color = 'black' , bg_color = \"grey\").set_pos((200,y_pos)).set_duration(audio.duration))\n",
    "                    txt_clip.append(TextClip(text1, font = \"Chilanka-Regular\",fontsize = 75, color = 'black').set_pos((200,y_pos)).set_duration(audio.duration))\n",
    "                    text = text[98:]\n",
    "                else:\n",
    "                    y_pos = y_pos + 100\n",
    "                    txt_clip_temp.append(TextClip(text, font = \"Chilanka-Regular\",fontsize = 75, color = 'black', bg_color = \"grey\").set_pos((200,y_pos)).set_duration(audio.duration))\n",
    "                    txt_clip.append(TextClip(text, font = \"Chilanka-Regular\",fontsize = 75, color = 'black').set_pos((200,y_pos)).set_duration(audio.duration))\n",
    "                    text = \"\"\n",
    "            clip1 = CompositeVideoClip(txt_clip_temp)\n",
    "            clip2 = clip1.set_audio(audio)\n",
    "            clips_final.append(clip2)\n",
    "            clips_final.append(clipTransition)\n",
    "        elif member[\"type\"] == \"heading\":\n",
    "            os.chdir('./videos/15_inprogress/')\n",
    "            audio = AudioFileClip(member[\"voice\"] +\".wav\")\n",
    "            os.chdir(basepath)\n",
    "            txt_clip_temp = []\n",
    "            for x in txt_clip:\n",
    "                txt_clip_temp.append(x.set_duration(audio.duration))\n",
    "            text = member[\"text\"]\n",
    "            y_pos = y_pos +50\n",
    "            while len(text) > 0:\n",
    "                if len(text) > 99:\n",
    "                    text1 = text[0:98]\n",
    "                    y_pos = y_pos +100\n",
    "                    txt_clip_temp.append(TextClip(text1, font = \"Chilanka-Regular\",fontsize = 75, color = 'black' , bg_color = \"grey\").set_pos((200,y_pos)).set_duration(audio.duration))\n",
    "                    txt_clip.append(TextClip(text1, font = \"Chilanka-Regular\",fontsize = 75, color = 'black').set_pos((200,y_pos)).set_duration(audio.duration))\n",
    "                    text = text[98:]\n",
    "                else:\n",
    "                    y_pos = y_pos + 100\n",
    "                    txt_clip_temp.append(TextClip(text, font = \"Chilanka-Regular\",fontsize = 75, color = 'black', bg_color = \"grey\").set_pos((200,y_pos)).set_duration(audio.duration))\n",
    "                    txt_clip.append(TextClip(text, font = \"Chilanka-Regular\",fontsize = 75, color = 'black').set_pos((200,y_pos)).set_duration(audio.duration))\n",
    "                    text = \"\"\n",
    "            clip1 = CompositeVideoClip(txt_clip_temp)\n",
    "            clip2 = clip1.set_audio(audio)\n",
    "            clips_final.append(clip2)\n",
    "            clips_final.append(clipTransition)\n",
    "            for point in member['points']:\n",
    "                os.chdir('./videos/15_inprogress/')\n",
    "                audio = AudioFileClip(point[\"voice\"] +\".wav\")\n",
    "                os.chdir(basepath)\n",
    "                txt_clip_temp = []\n",
    "                for x in txt_clip:\n",
    "                    txt_clip_temp.append(x.set_duration(audio.duration))\n",
    "                text = point[\"text\"]\n",
    "                y_pos = y_pos +50\n",
    "                while len(text) > 0:\n",
    "                    if len(text) > 99:\n",
    "                        text1 = text[0:98]\n",
    "                        y_pos = y_pos +100\n",
    "                        txt_clip_temp.append(TextClip(text1, font = \"Chilanka-Regular\",fontsize = 75, color = 'black' , bg_color = \"grey\").set_pos((200,y_pos)).set_duration(audio.duration))\n",
    "                        txt_clip.append(TextClip(text1, font = \"Chilanka-Regular\",fontsize = 75, color = 'black').set_pos((200,y_pos)).set_duration(audio.duration))\n",
    "                        text = text[98:]\n",
    "                    else:\n",
    "                        y_pos = y_pos + 100\n",
    "                        txt_clip_temp.append(TextClip(text, font = \"Chilanka-Regular\",fontsize = 75, color = 'black', bg_color = \"grey\").set_pos((200,y_pos)).set_duration(audio.duration))\n",
    "                        txt_clip.append(TextClip(text, font = \"Chilanka-Regular\",fontsize = 75, color = 'black').set_pos((200,y_pos)).set_duration(audio.duration))\n",
    "                        text = \"\"\n",
    "                clip1 = CompositeVideoClip(txt_clip_temp)\n",
    "                clip2 = clip1.set_audio(audio)\n",
    "                clips_final.append(clip2)\n",
    "                clips_final.append(clipTransition)\n",
    "            \n",
    "clips_final.append(clipOutro)\n",
    "for x in range(1,len(clips_final)):\n",
    "    clips_final[x-1] = clips_final[x-1].resize((3840,2160))\n",
    "final = concatenate_videoclips(clips_final)\n",
    "final.write_videofile(filename, fps=24)"
   ]
  }
 ],
 "metadata": {
  "kernelspec": {
   "display_name": "Python 3.9.12 ('yt')",
   "language": "python",
   "name": "python3"
  },
  "language_info": {
   "codemirror_mode": {
    "name": "ipython",
    "version": 3
   },
   "file_extension": ".py",
   "mimetype": "text/x-python",
   "name": "python",
   "nbconvert_exporter": "python",
   "pygments_lexer": "ipython3",
   "version": "3.9.12"
  },
  "orig_nbformat": 4,
  "vscode": {
   "interpreter": {
    "hash": "e0f349db685129aa21f0c8e94599f36e7501e0daa4f16bf645b3ce02c140c6d0"
   }
  }
 },
 "nbformat": 4,
 "nbformat_minor": 2
}
