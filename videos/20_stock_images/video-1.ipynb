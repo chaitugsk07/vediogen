{
 "cells": [
  {
   "cell_type": "code",
   "execution_count": 1,
   "metadata": {},
   "outputs": [
    {
     "name": "stdout",
     "output_type": "stream",
     "text": [
      "Get current working directory :  /home/chaitu/D/55_python/20_youtube/15_dev\n"
     ]
    }
   ],
   "source": [
    "import os\n",
    "from moviepy.editor import *\n",
    "import json\n",
    "#os.chdir('..')\n",
    "print('Get current working directory : ', os.getcwd())"
   ]
  },
  {
   "cell_type": "code",
   "execution_count": 4,
   "metadata": {},
   "outputs": [
    {
     "name": "stdout",
     "output_type": "stream",
     "text": [
      "Get current working directory :  /home/chaitu/D/55_python/20_youtube/15_dev/videos/10_yt_common\n",
      "Get current working directory :  /home/chaitu/D/55_python/20_youtube/15_dev\n",
      "Moviepy - Building video transition.mp4.\n",
      "MoviePy - Writing audio in transitionTEMP_MPY_wvf_snd.mp3\n"
     ]
    },
    {
     "name": "stderr",
     "output_type": "stream",
     "text": [
      "                                                                    \r"
     ]
    },
    {
     "name": "stdout",
     "output_type": "stream",
     "text": [
      "MoviePy - Done.\n",
      "Moviepy - Writing video transition.mp4\n",
      "\n"
     ]
    },
    {
     "name": "stderr",
     "output_type": "stream",
     "text": [
      "                                                              \r"
     ]
    },
    {
     "name": "stdout",
     "output_type": "stream",
     "text": [
      "Moviepy - Done !\n",
      "Moviepy - video ready transition.mp4\n"
     ]
    }
   ],
   "source": [
    "# loading video dsa gfg intro video\n",
    "basepath =os.getcwd()\n",
    "os.chdir('./videos/10_yt_common/')\n",
    "print('Get current working directory : ', os.getcwd())\n",
    "\n",
    "clipIntro = VideoFileClip(\"intro.mp4\").resize( (3840,2160) ) \n",
    "clipTransition = VideoFileClip(\"transition.mp4\").resize( (3840,2160) ) \n",
    "clipOutro = VideoFileClip(\"outro.mp4\").resize( (3840,2160) ) \n",
    "os.chdir(basepath)\n",
    "print('Get current working directory : ', os.getcwd())\n",
    "\n",
    "final = concatenate_videoclips([clipIntro,clipTransition,clipOutro])\n",
    "final.write_videofile(\"transition.mp4\", fps=24)\n"
   ]
  },
  {
   "cell_type": "code",
   "execution_count": 9,
   "metadata": {},
   "outputs": [
    {
     "name": "stdout",
     "output_type": "stream",
     "text": [
      "Get current working directory :  /home/chaitu/D/55_python/20_youtube/15_dev/videos/10_yt_common\n",
      "Get current working directory :  /home/chaitu/D/55_python/20_youtube/15_dev\n",
      "Moviepy - Building video transition.mp4.\n",
      "MoviePy - Writing audio in transitionTEMP_MPY_wvf_snd.mp3\n"
     ]
    },
    {
     "name": "stderr",
     "output_type": "stream",
     "text": [
      "                                                                    \r"
     ]
    },
    {
     "name": "stdout",
     "output_type": "stream",
     "text": [
      "MoviePy - Done.\n",
      "Moviepy - Writing video transition.mp4\n",
      "\n"
     ]
    },
    {
     "name": "stderr",
     "output_type": "stream",
     "text": [
      "                                                              \r"
     ]
    },
    {
     "name": "stdout",
     "output_type": "stream",
     "text": [
      "Moviepy - Done !\n",
      "Moviepy - video ready transition.mp4\n"
     ]
    }
   ],
   "source": [
    "# loading video dsa gfg intro video\n",
    "basepath =os.getcwd()\n",
    "os.chdir('./videos/10_yt_common/')\n",
    "print('Get current working directory : ', os.getcwd())\n",
    "\n",
    "clipIntro = VideoFileClip(\"intro.mp4\").resize( (3840,2160) ) \n",
    "clipTransition = VideoFileClip(\"transition.mp4\").resize( (3840,2160) ) \n",
    "clipOutro = VideoFileClip(\"outro.mp4\").resize( (3840,2160) ) \n",
    "os.chdir(basepath)\n",
    "print('Get current working directory : ', os.getcwd())\n",
    "\n",
    "final = concatenate_videoclips([clipIntro,clipTransition,clipOutro])\n",
    "final.write_videofile(\"transition.mp4\", fps=24)\n"
   ]
  },
  {
   "cell_type": "code",
   "execution_count": 6,
   "metadata": {},
   "outputs": [
    {
     "name": "stdout",
     "output_type": "stream",
     "text": [
      "Moviepy - Building video python.mp4.\n",
      "MoviePy - Writing audio in pythonTEMP_MPY_wvf_snd.mp3\n"
     ]
    },
    {
     "name": "stderr",
     "output_type": "stream",
     "text": [
      "                                                                    \r"
     ]
    },
    {
     "name": "stdout",
     "output_type": "stream",
     "text": [
      "MoviePy - Done.\n",
      "Moviepy - Writing video python.mp4\n",
      "\n"
     ]
    },
    {
     "name": "stderr",
     "output_type": "stream",
     "text": [
      "                                                              \r"
     ]
    },
    {
     "name": "stdout",
     "output_type": "stream",
     "text": [
      "Moviepy - Done !\n",
      "Moviepy - video ready python.mp4\n"
     ]
    }
   ],
   "source": [
    "basepath =os.getcwd()\n",
    "os.chdir('./videos/15_inprogress/')\n",
    "audio = AudioFileClip(\"1.wav\")\n",
    "os.chdir(basepath)\n",
    "\n",
    "os.chdir('./videos/20_stock_images/')\n",
    "clip = ImageClip(\"1.jpg\").set_duration(audio.duration)\n",
    "os.chdir(basepath)\n",
    "\n",
    "txt_clip = TextClip(\"What is Python?\", font = \"Dyuthi\",fontsize = 150, color = 'black')\n",
    "txt_clip = txt_clip.set_pos((200,100)).set_duration(audio.duration)\n",
    "\n",
    "\n",
    "txt_clip2 = TextClip(\"------------------------------------------------------------\", font = \"Dyuthi\",fontsize = 150, color = 'grey')\n",
    "txt_clip2 = txt_clip2.set_pos((200,200)).set_duration(audio.duration)\n",
    "\n",
    "txt_clip1 = TextClip(\"1\", font = \"Dyuthi\",fontsize = 75, color = 'black')\n",
    "txt_clip1 = txt_clip1.set_pos((1920,2000)).set_duration(audio.duration)\n",
    "\n",
    "clip1 = CompositeVideoClip([clip, txt_clip, txt_clip1, txt_clip2]) \n",
    "clip2 = clip1.set_audio(audio)\n",
    "clip2.write_videofile(\"python.mp4\", fps=24)"
   ]
  },
  {
   "cell_type": "code",
   "execution_count": null,
   "metadata": {},
   "outputs": [],
   "source": [
    "#print(json_data)\n",
    "basepath =os.getcwd()\n",
    "filename = json_data[\"videoname\"]+\".mp4\"\n",
    "for page in json_data[\"pages\"]:\n",
    "    txt_clip = []\n",
    "    os.chdir('./videos/20_stock_images/')\n",
    "    txt_clip.append[ImageClip(\"1.jpg\")] + txt_clip\n",
    "    os.chdir(basepath)\n",
    "    txt_clip.append(TextClip(page[\"title\"], font = \"Dyuthi\",fontsize = 150, color = 'black').set_pos((200,100)))\n",
    "    txt_clip.append(TextClip(\"------------------------------------------------------------\", font = \"Dyuthi\",fontsize = 150, color = 'grey').set_pos((150,200)))\n",
    "    txt_clip.append(TextClip(page[\"page\"], font = \"Dyuthi\",fontsize = 75, color = 'black').set_pos((1920,2000)))\n",
    "    os.chdir('./videos/15_inprogress/')\n",
    "    audio = AudioFileClip(\"1.wav\")\n",
    "    os.chdir(basepath)\n",
    "\n",
    "    os.chdir('./videos/20_stock_images/')\n",
    "    txt_clip = [ImageClip(\"1.jpg\")] + txt_clip\n",
    "    os.chdir(basepath)\n",
    "    text_clip_temp = []\n",
    "    for x in txt_clip:\n",
    "        text_clip_temp.append(x.set_duration(audio.duration))\n",
    "    clip1 = CompositeVideoClip(text_clip_temp) \n",
    "    clip2 = clip1.set_audio(audio)\n",
    "    clip2.write_videofile(\"python.mp4\", fps=24)"
   ]
  },
  {
   "cell_type": "code",
   "execution_count": null,
   "metadata": {},
   "outputs": [],
   "source": [
    "\n",
    "# Import the audio(Insert to location of your audio instead of audioClip.mp3)\n",
    "\n",
    "fonts = ['Liberation-Mono' , 'Likhan' , 'LKLUG' , 'Loma' , 'Mallanna' , 'Mandali' , 'Manjari' , 'Meera' , 'Mitra-Mono' , 'Mukti' , 'Nakula' , 'NATS' , 'Navilu' , 'Nimbus-Mono-L' , 'Norasi' , 'NTR' , 'Ubuntu' , 'Umpush' , 'Uroob-Regular' , 'URW-Bookman-Demi' , 'Vemana2000' , 'Waree' ]\n",
    "for x in range(len(fonts)):\n",
    "    \n",
    "    basepath =os.getcwd()\n",
    "    os.chdir('./videos/15_inprogress/001_python/')\n",
    "    print('Get current working directory : ', os.getcwd())\n",
    "    audio = AudioFileClip(\"1.wav\")\n",
    "    os.chdir(basepath)\n",
    "\n",
    "    os.chdir('./videos/20_stock_images/')\n",
    "    print('Get current working directory : ', os.getcwd())\n",
    "    clip = ImageClip(\"1.jpg\").set_duration(audio.duration)\n",
    "    os.chdir(basepath)\n",
    "\n",
    "    print(fonts[x])\n",
    "    txt_clip = TextClip(\"What is Python?\", font = fonts[x],fontsize = 150, color = 'black')\n",
    "    txt_clip = txt_clip.set_pos('center').set_duration(audio.duration)\n",
    "    clip1 = CompositeVideoClip([clip, txt_clip]) \n",
    "    clip2 = clip1.set_audio(audio)\n",
    "    name1=fonts[x]+\".mp4\"\n",
    "    clip2.write_videofile(name1, fps=24)"
   ]
  },
  {
   "cell_type": "code",
   "execution_count": 44,
   "metadata": {},
   "outputs": [
    {
     "name": "stdout",
     "output_type": "stream",
     "text": [
      "Python Introduction\n"
     ]
    }
   ],
   "source": [
    "import json\n",
    "# some JSON:\n",
    "x =  \"\"\"{\n",
    "\"videoname\" : \"Python Introduction\",\n",
    "\"pages\": [\n",
    "    {\n",
    "    \"title\" : \"What is Python?\",\n",
    "    \"page\": \"1\",\n",
    "    \"members\" : [\n",
    "        {\n",
    "        \"text\" : \"Python is a popular programming language. It was created by Guido van Rossum, and released in 1991.\",\n",
    "        \"type\" : \"paragraph\",\n",
    "        \"speech\": \"Python is an open-source programming language that works with a wide variety of operating systems and software to help you create applications. It has a large, robust community of users, developers and companies that make it one of the most popular languages on the planet.\",\n",
    "        \"voice\" : \"1-1\"\n",
    "        },\n",
    "        {\n",
    "        \"text\" : \"Python is used for:\",\n",
    "        \"type\" : \"heading\",\n",
    "        \"speech\": \"abc\",\n",
    "        \"voice\" : \"1-2\",\n",
    "        \"points\" : [\n",
    "            {\n",
    "            \"text\" : \"web development (server-side),\",\n",
    "            \"type\" : \"point\",\n",
    "            \"speech\": \"sdvsdvsdv\",\n",
    "            \"voice\" : \"1-2-1\"\n",
    "            },\n",
    "            {\n",
    "            \"text\" : \"software development,\",\n",
    "            \"type\" : \"point\",\n",
    "            \"speech\": \"ydgnxvnb\",\n",
    "            \"voice\" : \"1-2-2\"\n",
    "            },\n",
    "            {\n",
    "            \"text\" : \"mathematics,\",\n",
    "            \"type\" : \"point\",\n",
    "            \"speech\": \"ysfnydgn\",\n",
    "            \"voice\" : \"1-2-3\"\n",
    "            },\n",
    "            {\n",
    "            \"text\" : \"system scripting.\",\n",
    "            \"type\" : \"point\",\n",
    "            \"speech\": \"fgnxfgn\",\n",
    "            \"voice\" : \"1-2-4\"\n",
    "            }\n",
    "        ]\n",
    "        }\n",
    "    ]\n",
    "    }\n",
    "]\n",
    "}\"\"\"\n",
    "\n",
    "y = json.loads(x)\n",
    "#print(json.dumps(y, indent=4))\n",
    "print(y[\"videoname\"])"
   ]
  }
 ],
 "metadata": {
  "kernelspec": {
   "display_name": "Python 3.9.12 ('yt')",
   "language": "python",
   "name": "python3"
  },
  "language_info": {
   "codemirror_mode": {
    "name": "ipython",
    "version": 3
   },
   "file_extension": ".py",
   "mimetype": "text/x-python",
   "name": "python",
   "nbconvert_exporter": "python",
   "pygments_lexer": "ipython3",
   "version": "3.9.12"
  },
  "orig_nbformat": 4,
  "vscode": {
   "interpreter": {
    "hash": "e0f349db685129aa21f0c8e94599f36e7501e0daa4f16bf645b3ce02c140c6d0"
   }
  }
 },
 "nbformat": 4,
 "nbformat_minor": 2
}
